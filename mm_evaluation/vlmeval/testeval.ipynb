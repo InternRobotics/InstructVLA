{
 "cells": [
  {
   "cell_type": "code",
   "execution_count": 1,
   "id": "7437e8f6-9264-4a6d-b840-9a13237f322c",
   "metadata": {},
   "outputs": [
    {
     "name": "stderr",
     "output_type": "stream",
     "text": [
      "/mnt/petrelfs/yangshuai1/miniconda3/envs/openvla-simpler/lib/python3.10/site-packages/tqdm/auto.py:21: TqdmWarning: IProgress not found. Please update jupyter and ipywidgets. See https://ipywidgets.readthedocs.io/en/stable/user_install.html\n",
      "  from .autonotebook import tqdm as notebook_tqdm\n",
      "2025-04-20 23:28:07.976613: I tensorflow/core/util/port.cc:113] oneDNN custom operations are on. You may see slightly different numerical results due to floating-point round-off errors from different computation orders. To turn them off, set the environment variable `TF_ENABLE_ONEDNN_OPTS=0`.\n",
      "2025-04-20 23:28:08.210800: E external/local_xla/xla/stream_executor/cuda/cuda_dnn.cc:9261] Unable to register cuDNN factory: Attempting to register factory for plugin cuDNN when one has already been registered\n",
      "2025-04-20 23:28:08.210870: E external/local_xla/xla/stream_executor/cuda/cuda_fft.cc:607] Unable to register cuFFT factory: Attempting to register factory for plugin cuFFT when one has already been registered\n",
      "2025-04-20 23:28:08.246553: E external/local_xla/xla/stream_executor/cuda/cuda_blas.cc:1515] Unable to register cuBLAS factory: Attempting to register factory for plugin cuBLAS when one has already been registered\n",
      "2025-04-20 23:28:08.334006: I tensorflow/core/platform/cpu_feature_guard.cc:182] This TensorFlow binary is optimized to use available CPU instructions in performance-critical operations.\n",
      "To enable the following instructions: AVX2 AVX512F AVX512_VNNI FMA, in other operations, rebuild TensorFlow with the appropriate compiler flags.\n",
      "2025-04-20 23:28:10.514575: W tensorflow/compiler/tf2tensorrt/utils/py_utils.cc:38] TF-TRT Warning: Could not find TensorRT\n"
     ]
    },
    {
     "name": "stdout",
     "output_type": "stream",
     "text": [
      "[2025-04-20 23:28:16,614] [INFO] [real_accelerator.py:222:get_accelerator] Setting ds_accelerator to cuda (auto detect)\n"
     ]
    },
    {
     "name": "stderr",
     "output_type": "stream",
     "text": [
      "/mnt/petrelfs/yangshuai1/miniconda3/envs/openvla-simpler/compiler_compat/ld: cannot find -lcufile: No such file or directory\n",
      "collect2: error: ld returned 1 exit status\n"
     ]
    },
    {
     "name": "stdout",
     "output_type": "stream",
     "text": [
      "qwen_vl_utils not found\n"
     ]
    },
    {
     "name": "stderr",
     "output_type": "stream",
     "text": [
      "[2025-04-20 23:28:21] ERROR - misc.py: load_env - 212: Did not detect the .env file at /mnt/petrelfs/yangshuai1/rep/cogact_with_history/EAGLE/Eagle2/vlmeval/.env, failed to load. \n"
     ]
    }
   ],
   "source": [
    "# Demo\n",
    "from vlmeval.config import supported_VLM"
   ]
  },
  {
   "cell_type": "code",
   "execution_count": 2,
   "id": "48e1d611-bb7d-40ad-998c-748c95fae92d",
   "metadata": {},
   "outputs": [
    {
     "name": "stderr",
     "output_type": "stream",
     "text": [
      "Some weights of the model checkpoint at /mnt/petrelfs/yangshuai1/rep/cogact_with_history/ckpt/Eagle2-2B were not used when initializing Eagle2ChatModel: ['vision_model.vision_model.head.attention.in_proj_bias', 'vision_model.vision_model.head.attention.in_proj_weight', 'vision_model.vision_model.head.attention.out_proj.bias', 'vision_model.vision_model.head.attention.out_proj.weight', 'vision_model.vision_model.head.layernorm.bias', 'vision_model.vision_model.head.layernorm.weight', 'vision_model.vision_model.head.mlp.fc1.bias', 'vision_model.vision_model.head.mlp.fc1.weight', 'vision_model.vision_model.head.mlp.fc2.bias', 'vision_model.vision_model.head.mlp.fc2.weight', 'vision_model.vision_model.head.probe']\n",
      "- This IS expected if you are initializing Eagle2ChatModel from the checkpoint of a model trained on another task or with another architecture (e.g. initializing a BertForSequenceClassification model from a BertForPreTraining model).\n",
      "- This IS NOT expected if you are initializing Eagle2ChatModel from the checkpoint of a model that you expect to be exactly identical (initializing a BertForSequenceClassification model from a BertForSequenceClassification model).\n",
      "/mnt/petrelfs/yangshuai1/rep/cogact_with_history/EAGLE/Eagle2/vlmeval/vlmeval/vlm/eagle2/eagle2_chat.py:82: UserWarning: Following kwargs received: {'do_sample': False, 'max_new_tokens': 512, 'top_p': None, 'num_beams': 1}, will use as generation config. \n",
      "  warnings.warn(f'Following kwargs received: {self.kwargs}, will use as generation config. ')\n"
     ]
    },
    {
     "name": "stdout",
     "output_type": "stream",
     "text": [
      "dynamic ViT batch size: 1\n"
     ]
    },
    {
     "name": "stderr",
     "output_type": "stream",
     "text": [
      "Setting `pad_token_id` to `eos_token_id`:151645 for open-end generation.\n",
      "Setting `pad_token_id` to `eos_token_id`:151645 for open-end generation.\n"
     ]
    },
    {
     "name": "stdout",
     "output_type": "stream",
     "text": [
      "<|im_start|>system\n",
      "You are a helpful assistant.<|im_end|>\n",
      "<|im_start|>user\n",
      "<image>\n",
      "What is in this image?<|im_end|>\n",
      "<|im_end|>assistant\n",
      " The image shows a red apple with a green leaf attached to it.\n",
      "The image shows a red apple with a green leaf attached to it.\n",
      "dynamic ViT batch size: 2\n",
      "<|im_start|>system\n",
      "You are a helpful assistant.<|im_end|>\n",
      "<|im_start|>user\n",
      "<image 1><image>\n",
      "<image 2><image>\n",
      "How many apples are there in the provided images? <|im_end|>\n",
      "<|im_end|>assistant\n",
      " There are two apples in the provided images.\n",
      "There are two apples in the provided images.\n"
     ]
    }
   ],
   "source": [
    "model = supported_VLM['Eagle2-2B']()\n",
    "# Forward Single Image\n",
    "ret = model.generate(['assets/apple.jpg', 'What is in this image?'])\n",
    "print(ret)  # The image features a red apple with a leaf on it.\n",
    "# Forward Multiple Images\n",
    "ret = model.generate(['assets/apple.jpg', 'assets/apple.jpg', 'How many apples are there in the provided images? '])\n",
    "print(ret)  # There are two apples in the provided images."
   ]
  },
  {
   "cell_type": "code",
   "execution_count": null,
   "id": "50ca7ffe-53fe-44f0-98fb-ee3b83177028",
   "metadata": {},
   "outputs": [],
   "source": []
  }
 ],
 "metadata": {
  "kernelspec": {
   "display_name": "openvla-simpler",
   "language": "python",
   "name": "openvla-simpler"
  },
  "language_info": {
   "codemirror_mode": {
    "name": "ipython",
    "version": 3
   },
   "file_extension": ".py",
   "mimetype": "text/x-python",
   "name": "python",
   "nbconvert_exporter": "python",
   "pygments_lexer": "ipython3",
   "version": "3.10.13"
  }
 },
 "nbformat": 4,
 "nbformat_minor": 5
}
