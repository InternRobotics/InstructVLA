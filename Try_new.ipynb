{
 "cells": [
  {
   "cell_type": "code",
   "execution_count": 1,
   "metadata": {},
   "outputs": [
    {
     "name": "stdout",
     "output_type": "stream",
     "text": [
      "Batch 1:\n"
     ]
    },
    {
     "name": "stderr",
     "output_type": "stream",
     "text": [
      "display: unable to open X server `' @ error/display.c/DisplayImageCommand/410.\n",
      "display: unable to open X server `' @ error/display.c/DisplayImageCommand/410.\n",
      "display: unable to open X server `' @ error/display.c/DisplayImageCommand/410.\n",
      "display: unable to open X server `' @ error/display.c/DisplayImageCommand/410.\n",
      "display: unable to open X server `' @ error/display.c/DisplayImageCommand/410.\n",
      "display: unable to open X server `' @ error/display.c/DisplayImageCommand/410.\n",
      "display: unable to open X server `' @ error/display.c/DisplayImageCommand/410.\n",
      "display: unable to open X server `' @ error/display.c/DisplayImageCommand/410.\n",
      "display: unable to open X server `' @ error/display.c/DisplayImageCommand/410.\n",
      "display: unable to open X server `' @ error/display.c/DisplayImageCommand/410.\n",
      "display: unable to open X server `' @ error/display.c/DisplayImageCommand/410.\n",
      "display: unable to open X server `' @ error/display.c/DisplayImageCommand/410.\n",
      "display: unable to open X server `' @ error/display.c/DisplayImageCommand/410.\n",
      "display: unable to open X server `' @ error/display.c/DisplayImageCommand/410.\n",
      "display: unable to open X server `' @ error/display.c/DisplayImageCommand/410.\n",
      "display: unable to open X server `' @ error/display.c/DisplayImageCommand/410.\n",
      "display: unable to open X server `' @ error/display.c/DisplayImageCommand/410.\n",
      "display: unable to open X server `' @ error/display.c/DisplayImageCommand/410.\n",
      "display: unable to open X server `' @ error/display.c/DisplayImageCommand/410.\n",
      "display: unable to open X server `' @ error/display.c/DisplayImageCommand/410.\n",
      "display: unable to open X server `' @ error/display.c/DisplayImageCommand/410.\n",
      "display: unable to open X server `' @ error/display.c/DisplayImageCommand/410.\n",
      "display: unable to open X server `' @ error/display.c/DisplayImageCommand/410.\n",
      "display: unable to open X server `' @ error/display.c/DisplayImageCommand/410.\n",
      "display: unable to open X server `' @ error/display.c/DisplayImageCommand/410.\n",
      "display: unable to open X server `' @ error/display.c/DisplayImageCommand/410.\n",
      "display: unable to open X server `' @ error/display.c/DisplayImageCommand/410.\n",
      "display: unable to open X server `' @ error/display.c/DisplayImageCommand/410.\n",
      "display: unable to open X server `' @ error/display.c/DisplayImageCommand/410.\n",
      "display: unable to open X server `' @ error/display.c/DisplayImageCommand/410.\n",
      "display: unable to open X server `' @ error/display.c/DisplayImageCommand/410.\n"
     ]
    },
    {
     "name": "stdout",
     "output_type": "stream",
     "text": [
      "Batch 2:\n",
      "Batch 3:\n",
      "Batch 4:\n"
     ]
    },
    {
     "name": "stderr",
     "output_type": "stream",
     "text": [
      "display: unable to open X server `' @ error/display.c/DisplayImageCommand/410.\n",
      "display: unable to open X server `' @ error/display.c/DisplayImageCommand/410.\n",
      "display: unable to open X server `' @ error/display.c/DisplayImageCommand/410.\n",
      "display: unable to open X server `' @ error/display.c/DisplayImageCommand/410.\n",
      "display: unable to open X server `' @ error/display.c/DisplayImageCommand/410.\n",
      "display: unable to open X server `' @ error/display.c/DisplayImageCommand/410.\n",
      "display: unable to open X server `' @ error/display.c/DisplayImageCommand/410.\n"
     ]
    },
    {
     "name": "stderr",
     "output_type": "stream",
     "text": [
      "display: unable to open X server `' @ error/display.c/DisplayImageCommand/410.\n",
      "display: unable to open X server `' @ error/display.c/DisplayImageCommand/410.\n"
     ]
    }
   ],
   "source": [
    "import random\n",
    "import numpy as np\n",
    "from PIL import Image, ImageDraw\n",
    "\n",
    "def augment_image_sequence(image_sequence, num_frames, mix_alpha=0.5, mask_probability=0.3):\n",
    "    \"\"\"\n",
    "    对长度为 B*N 的图像序列进行增强。\n",
    "    \n",
    "    Parameters:\n",
    "    - image_sequence: list of list of PIL.Image objects (B sequences, each containing N frames)\n",
    "    - num_frames: int, 每个序列包含的帧数 (N)\n",
    "    - mix_alpha: float, 混合帧时的加权比例（默认为 0.5）\n",
    "    - mask_probability: float, 遮挡的概率（默认为 0.3）\n",
    "\n",
    "    Returns:\n",
    "    - augmented_sequences: list of list of PIL.Image objects (增强后的图像序列)\n",
    "    \"\"\"\n",
    "    augmented_sequences = []\n",
    "    \n",
    "    for sequence in image_sequence:  # 遍历每个序列 (B)\n",
    "        augmented_sequence = sequence.copy()  # 深拷贝，避免原数据被修改\n",
    "        \n",
    "        # 1. 时间扰动（缺失帧 + 重复帧补充）\n",
    "        missing_indices = random.sample(range(num_frames - 1), k=random.randint(1, (num_frames - 1) // 3))\n",
    "        for idx in missing_indices:\n",
    "            replacement_idx = random.randint(0, num_frames - 2)  # 从剩余帧随机挑选补充帧\n",
    "            augmented_sequence[idx] = sequence[replacement_idx].copy()\n",
    "        \n",
    "        # 2. 小范围时间顺序调换\n",
    "        swap_start = random.randint(0, num_frames - 3)  # 随机选择起始位置\n",
    "        swap_end = min(swap_start + random.randint(2, 4), num_frames - 2)  # 限制范围不超过 N-1\n",
    "        sub_seq = augmented_sequence[swap_start:swap_end]\n",
    "        random.shuffle(sub_seq)  # 打乱顺序\n",
    "        augmented_sequence[swap_start:swap_end] = sub_seq\n",
    "        \n",
    "        # 3. 混合帧（Frame Mixing）\n",
    "        for i in range(num_frames - 2):  # 只对前 N-2 的帧进行混合\n",
    "            next_idx = (i + 1) % (num_frames - 1)  # 下一个帧索引（环形）\n",
    "            mixed_frame = Image.blend(sequence[i], sequence[next_idx], alpha=mix_alpha)\n",
    "            augmented_sequence[i] = mixed_frame\n",
    "        \n",
    "        # 4. 遮挡（Temporal Masking）\n",
    "        for idx in range(num_frames - 1):  # 遍历前 N-1 帧\n",
    "            if random.random() < mask_probability:\n",
    "                augmented_sequence[idx] = apply_temporal_mask(augmented_sequence[idx])\n",
    "        \n",
    "        # 将增强后的序列添加到结果中\n",
    "        augmented_sequences.append(augmented_sequence)\n",
    "    \n",
    "    return augmented_sequences\n",
    "\n",
    "def apply_temporal_mask(image):\n",
    "    \"\"\"\n",
    "    为图像添加随机遮挡（遮挡为矩形区域）。\n",
    "    \n",
    "    Parameters:\n",
    "    - image: PIL.Image object, 输入图像。\n",
    "    \n",
    "    Returns:\n",
    "    - masked_image: PIL.Image object, 添加遮挡后的图像。\n",
    "    \"\"\"\n",
    "    draw = ImageDraw.Draw(image)\n",
    "    width, height = image.size\n",
    "    mask_width = random.randint(width // 8, width // 4)  # 遮挡宽度\n",
    "    mask_height = random.randint(height // 8, height // 4)  # 遮挡高度\n",
    "    top_left_x = random.randint(0, width - mask_width)\n",
    "    top_left_y = random.randint(0, height - mask_height)\n",
    "    bottom_right_x = top_left_x + mask_width\n",
    "    bottom_right_y = top_left_y + mask_height\n",
    "    \n",
    "    # 绘制黑色矩形\n",
    "    draw.rectangle([top_left_x, top_left_y, bottom_right_x, bottom_right_y], fill=(0, 0, 0))\n",
    "    return image\n",
    "\n",
    "# 示例：使用图像增强代码\n",
    "if __name__ == \"__main__\":\n",
    "    # 假设有一个长度为 B*N 的图像序列\n",
    "    B, N = 4, 10  # 批大小 B，序列长度 N\n",
    "    image_sequences = [[Image.new(\"RGB\", (224, 224), (random.randint(0, 255), random.randint(0, 255), random.randint(0, 255)))\n",
    "                        for _ in range(N)] for _ in range(B)]\n",
    "    \n",
    "    # 对序列进行增强\n",
    "    augmented_sequences = augment_image_sequence(image_sequences, num_frames=N)\n",
    "\n",
    "    # 显示增强后的序列\n",
    "    for b_idx, sequence in enumerate(augmented_sequences):\n",
    "        print(f\"Batch {b_idx + 1}:\")\n",
    "        for t_idx, frame in enumerate(sequence):\n",
    "            frame.show(title=f\"Frame {t_idx + 1}\")"
   ]
  }
 ],
 "metadata": {
  "kernelspec": {
   "display_name": "llava",
   "language": "python",
   "name": "python3"
  },
  "language_info": {
   "codemirror_mode": {
    "name": "ipython",
    "version": 3
   },
   "file_extension": ".py",
   "mimetype": "text/x-python",
   "name": "python",
   "nbconvert_exporter": "python",
   "pygments_lexer": "ipython3",
   "version": "3.8.13"
  },
  "orig_nbformat": 4
 },
 "nbformat": 4,
 "nbformat_minor": 2
}
